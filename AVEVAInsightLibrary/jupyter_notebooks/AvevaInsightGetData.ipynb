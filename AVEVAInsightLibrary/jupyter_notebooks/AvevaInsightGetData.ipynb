{
 "cells": [
  {
   "cell_type": "code",
   "execution_count": 6,
   "metadata": {},
   "outputs": [],
   "source": [
    "import pickle\n",
    "import json\n",
    "from datetime import datetime\n",
    "from dotenv import load_dotenv\n",
    "import sys\n",
    "import os\n",
    "sys.path.append(\"../src\")\n",
    "from AvevaInsightLibrary import Aveva_Insight\n",
    "load_dotenv() \n",
    "%matplotlib inline"
   ]
  },
  {
   "cell_type": "code",
   "execution_count": 7,
   "metadata": {},
   "outputs": [],
   "source": [
    "auth_token = os.getenv('BEARER_TOKEN')\n",
    "aveva = Aveva_Insight(auth_token)"
   ]
  },
  {
   "cell_type": "code",
   "execution_count": 8,
   "metadata": {},
   "outputs": [
    {
     "ename": "KeyError",
     "evalue": "'DateTime'",
     "output_type": "error",
     "traceback": [
      "\u001b[1;31m---------------------------------------------------------------------------\u001b[0m",
      "\u001b[1;31mKeyError\u001b[0m                                  Traceback (most recent call last)",
      "Cell \u001b[1;32mIn[8], line 8\u001b[0m\n\u001b[0;32m      3\u001b[0m endTime \u001b[39m=\u001b[39m datetime(\u001b[39m2023\u001b[39m, \u001b[39m7\u001b[39m, \u001b[39m5\u001b[39m, \u001b[39m0\u001b[39m, \u001b[39m0\u001b[39m)\n\u001b[0;32m      6\u001b[0m \u001b[39mfor\u001b[39;00m tag \u001b[39min\u001b[39;00m tagnames:\n\u001b[0;32m      7\u001b[0m     \u001b[39m# Fetch tag data\u001b[39;00m\n\u001b[1;32m----> 8\u001b[0m     df \u001b[39m=\u001b[39m aveva\u001b[39m.\u001b[39;49mget_Insight_Data(tag, startTime, endTime, RetrievalMode\u001b[39m=\u001b[39;49m\u001b[39m\"\u001b[39;49m\u001b[39mFULL\u001b[39;49m\u001b[39m\"\u001b[39;49m)\n\u001b[0;32m     10\u001b[0m     aveva\u001b[39m.\u001b[39msave_to_file(df, tag, filetype\u001b[39m=\u001b[39m\u001b[39m'\u001b[39m\u001b[39mcsv\u001b[39m\u001b[39m'\u001b[39m)\n",
      "File \u001b[1;32md:\\CodeRep\\AVEVAInsightPythonLibrary\\AVEVAInsightLibrary\\jupyter_notebooks\\../src\\AvevaInsightLibrary.py:92\u001b[0m, in \u001b[0;36mAveva_Insight.get_Insight_Data\u001b[1;34m(self, tagnames, starttime, endtime, RetrievalMode, Resolution)\u001b[0m\n\u001b[0;32m     89\u001b[0m \u001b[39mif\u001b[39;00m RetrievalMode \u001b[39mis\u001b[39;00m \u001b[39mnot\u001b[39;00m \u001b[39mNone\u001b[39;00m:\n\u001b[0;32m     90\u001b[0m     params[\u001b[39m\"\u001b[39m\u001b[39mRetrievalMode\u001b[39m\u001b[39m\"\u001b[39m] \u001b[39m=\u001b[39m RetrievalMode\n\u001b[1;32m---> 92\u001b[0m df \u001b[39m=\u001b[39m \u001b[39mself\u001b[39;49m\u001b[39m.\u001b[39;49mapi_call(\u001b[39m\"\u001b[39;49m\u001b[39mget\u001b[39;49m\u001b[39m\"\u001b[39;49m, api_url, params, \u001b[39mlambda\u001b[39;49;00m df: df\u001b[39m.\u001b[39;49msort_values(\u001b[39m'\u001b[39;49m\u001b[39mDateTime\u001b[39;49m\u001b[39m'\u001b[39;49m, ascending\u001b[39m=\u001b[39;49m\u001b[39mTrue\u001b[39;49;00m))\n\u001b[0;32m     94\u001b[0m \u001b[39mreturn\u001b[39;00m df\n",
      "File \u001b[1;32md:\\CodeRep\\AVEVAInsightPythonLibrary\\AVEVAInsightLibrary\\jupyter_notebooks\\../src\\AvevaInsightLibrary.py:55\u001b[0m, in \u001b[0;36mAveva_Insight.api_call\u001b[1;34m(self, method, url, data, process_func)\u001b[0m\n\u001b[0;32m     52\u001b[0m     \u001b[39mraise\u001b[39;00m \u001b[39mValueError\u001b[39;00m(\u001b[39mf\u001b[39m\u001b[39m\"\u001b[39m\u001b[39mError from WEBAPI: \u001b[39m\u001b[39m{\u001b[39;00mresponse\u001b[39m.\u001b[39mcontent\u001b[39m}\u001b[39;00m\u001b[39m\"\u001b[39m)\n\u001b[0;32m     54\u001b[0m df \u001b[39m=\u001b[39m pd\u001b[39m.\u001b[39mconcat([df, pd\u001b[39m.\u001b[39mDataFrame(response\u001b[39m.\u001b[39mjson()[\u001b[39m\"\u001b[39m\u001b[39mvalue\u001b[39m\u001b[39m\"\u001b[39m])])\n\u001b[1;32m---> 55\u001b[0m df \u001b[39m=\u001b[39m process_func(df)\n\u001b[0;32m     57\u001b[0m \u001b[39mif\u001b[39;00m \u001b[39m'\u001b[39m\u001b[39m@odata.nextLink\u001b[39m\u001b[39m'\u001b[39m \u001b[39min\u001b[39;00m response\u001b[39m.\u001b[39mjson():\n\u001b[0;32m     58\u001b[0m     url \u001b[39m=\u001b[39m response\u001b[39m.\u001b[39mjson()[\u001b[39m'\u001b[39m\u001b[39m@odata.nextLink\u001b[39m\u001b[39m'\u001b[39m]\n",
      "File \u001b[1;32md:\\CodeRep\\AVEVAInsightPythonLibrary\\AVEVAInsightLibrary\\jupyter_notebooks\\../src\\AvevaInsightLibrary.py:92\u001b[0m, in \u001b[0;36mAveva_Insight.get_Insight_Data.<locals>.<lambda>\u001b[1;34m(df)\u001b[0m\n\u001b[0;32m     89\u001b[0m \u001b[39mif\u001b[39;00m RetrievalMode \u001b[39mis\u001b[39;00m \u001b[39mnot\u001b[39;00m \u001b[39mNone\u001b[39;00m:\n\u001b[0;32m     90\u001b[0m     params[\u001b[39m\"\u001b[39m\u001b[39mRetrievalMode\u001b[39m\u001b[39m\"\u001b[39m] \u001b[39m=\u001b[39m RetrievalMode\n\u001b[1;32m---> 92\u001b[0m df \u001b[39m=\u001b[39m \u001b[39mself\u001b[39m\u001b[39m.\u001b[39mapi_call(\u001b[39m\"\u001b[39m\u001b[39mget\u001b[39m\u001b[39m\"\u001b[39m, api_url, params, \u001b[39mlambda\u001b[39;00m df: df\u001b[39m.\u001b[39;49msort_values(\u001b[39m'\u001b[39;49m\u001b[39mDateTime\u001b[39;49m\u001b[39m'\u001b[39;49m, ascending\u001b[39m=\u001b[39;49m\u001b[39mTrue\u001b[39;49;00m))\n\u001b[0;32m     94\u001b[0m \u001b[39mreturn\u001b[39;00m df\n",
      "File \u001b[1;32mc:\\Users\\oliver.varosanec\\Anaconda3\\envs\\lean\\lib\\site-packages\\pandas\\core\\frame.py:6758\u001b[0m, in \u001b[0;36mDataFrame.sort_values\u001b[1;34m(self, by, axis, ascending, inplace, kind, na_position, ignore_index, key)\u001b[0m\n\u001b[0;32m   6754\u001b[0m \u001b[39melif\u001b[39;00m \u001b[39mlen\u001b[39m(by):\n\u001b[0;32m   6755\u001b[0m     \u001b[39m# len(by) == 1\u001b[39;00m\n\u001b[0;32m   6757\u001b[0m     by \u001b[39m=\u001b[39m by[\u001b[39m0\u001b[39m]\n\u001b[1;32m-> 6758\u001b[0m     k \u001b[39m=\u001b[39m \u001b[39mself\u001b[39;49m\u001b[39m.\u001b[39;49m_get_label_or_level_values(by, axis\u001b[39m=\u001b[39;49maxis)\n\u001b[0;32m   6760\u001b[0m     \u001b[39m# need to rewrap column in Series to apply key function\u001b[39;00m\n\u001b[0;32m   6761\u001b[0m     \u001b[39mif\u001b[39;00m key \u001b[39mis\u001b[39;00m \u001b[39mnot\u001b[39;00m \u001b[39mNone\u001b[39;00m:\n\u001b[0;32m   6762\u001b[0m         \u001b[39m# error: Incompatible types in assignment (expression has type\u001b[39;00m\n\u001b[0;32m   6763\u001b[0m         \u001b[39m# \"Series\", variable has type \"ndarray\")\u001b[39;00m\n",
      "File \u001b[1;32mc:\\Users\\oliver.varosanec\\Anaconda3\\envs\\lean\\lib\\site-packages\\pandas\\core\\generic.py:1778\u001b[0m, in \u001b[0;36mNDFrame._get_label_or_level_values\u001b[1;34m(self, key, axis)\u001b[0m\n\u001b[0;32m   1776\u001b[0m     values \u001b[39m=\u001b[39m \u001b[39mself\u001b[39m\u001b[39m.\u001b[39maxes[axis]\u001b[39m.\u001b[39mget_level_values(key)\u001b[39m.\u001b[39m_values\n\u001b[0;32m   1777\u001b[0m \u001b[39melse\u001b[39;00m:\n\u001b[1;32m-> 1778\u001b[0m     \u001b[39mraise\u001b[39;00m \u001b[39mKeyError\u001b[39;00m(key)\n\u001b[0;32m   1780\u001b[0m \u001b[39m# Check for duplicates\u001b[39;00m\n\u001b[0;32m   1781\u001b[0m \u001b[39mif\u001b[39;00m values\u001b[39m.\u001b[39mndim \u001b[39m>\u001b[39m \u001b[39m1\u001b[39m:\n",
      "\u001b[1;31mKeyError\u001b[0m: 'DateTime'"
     ]
    }
   ],
   "source": [
    "tagnames = ['TagName1', 'TagName2']\n",
    "startTime = datetime(2023, 6, 1, 0, 0)\n",
    "endTime = datetime(2023, 7, 5, 0, 0)\n",
    "\n",
    "\n",
    "for tag in tagnames:\n",
    "    # Fetch tag data\n",
    "    df = aveva.get_Insight_Data(tag, startTime, endTime, RetrievalMode=\"FULL\")\n",
    "\n",
    "    aveva.save_to_file(df, tag, filetype='csv')\n"
   ]
  },
  {
   "cell_type": "code",
   "execution_count": 5,
   "metadata": {},
   "outputs": [
    {
     "ename": "NameError",
     "evalue": "name 'df' is not defined",
     "output_type": "error",
     "traceback": [
      "\u001b[1;31m---------------------------------------------------------------------------\u001b[0m",
      "\u001b[1;31mNameError\u001b[0m                                 Traceback (most recent call last)",
      "Cell \u001b[1;32mIn[5], line 1\u001b[0m\n\u001b[1;32m----> 1\u001b[0m df\u001b[39m.\u001b[39mhead()\n",
      "\u001b[1;31mNameError\u001b[0m: name 'df' is not defined"
     ]
    }
   ],
   "source": [
    "df.head()"
   ]
  },
  {
   "attachments": {},
   "cell_type": "markdown",
   "metadata": {},
   "source": [
    "# Expressions:"
   ]
  },
  {
   "cell_type": "code",
   "execution_count": 4,
   "metadata": {},
   "outputs": [
    {
     "name": "stdout",
     "output_type": "stream",
     "text": [
      "Failed to retrieve data. Status code: 413\n"
     ]
    },
    {
     "ename": "ValueError",
     "evalue": "Error from WEBAPI: b'{\"title\":\"Too many tags in query\",\"status\":413,\"traceId\":\"00-c9ae872bdd680a46af0739996a05b2b0-e57acf7e97e93bb0-00\"}'",
     "output_type": "error",
     "traceback": [
      "\u001b[1;31m---------------------------------------------------------------------------\u001b[0m",
      "\u001b[1;31mValueError\u001b[0m                                Traceback (most recent call last)",
      "Cell \u001b[1;32mIn[4], line 5\u001b[0m\n\u001b[0;32m      2\u001b[0m startTime \u001b[39m=\u001b[39m datetime(\u001b[39m2023\u001b[39m, \u001b[39m6\u001b[39m, \u001b[39m1\u001b[39m, \u001b[39m0\u001b[39m, \u001b[39m0\u001b[39m)\n\u001b[0;32m      3\u001b[0m endTime \u001b[39m=\u001b[39m datetime(\u001b[39m2023\u001b[39m, \u001b[39m7\u001b[39m, \u001b[39m5\u001b[39m, \u001b[39m0\u001b[39m, \u001b[39m0\u001b[39m)\n\u001b[1;32m----> 5\u001b[0m exDF \u001b[39m=\u001b[39m aveva\u001b[39m.\u001b[39;49mget_Expression_Data(expression, startTime, endTime, RetrievalMode\u001b[39m=\u001b[39;49m\u001b[39m\"\u001b[39;49m\u001b[39mDELTA\u001b[39;49m\u001b[39m\"\u001b[39;49m)\n",
      "File \u001b[1;32md:\\CodeRep\\AVEVAInsightPythonLibrary\\AVEVAInsightLibrary\\jupyter_notebooks\\../src\\AvevaInsightLibrary.py:122\u001b[0m, in \u001b[0;36mAveva_Insight.get_Expression_Data\u001b[1;34m(self, expression, starttime, endtime, RetrievalMode, Resolution)\u001b[0m\n\u001b[0;32m    118\u001b[0m \u001b[39mif\u001b[39;00m RetrievalMode \u001b[39mis\u001b[39;00m \u001b[39mnot\u001b[39;00m \u001b[39mNone\u001b[39;00m:\n\u001b[0;32m    119\u001b[0m     payload[\u001b[39m\"\u001b[39m\u001b[39mRetrievalMode\u001b[39m\u001b[39m\"\u001b[39m] \u001b[39m=\u001b[39m RetrievalMode\n\u001b[1;32m--> 122\u001b[0m df \u001b[39m=\u001b[39m \u001b[39mself\u001b[39;49m\u001b[39m.\u001b[39;49mapi_call(\u001b[39m\"\u001b[39;49m\u001b[39mpost\u001b[39;49m\u001b[39m\"\u001b[39;49m, api_url, payload, \u001b[39mlambda\u001b[39;49;00m df: df\u001b[39m.\u001b[39;49msort_values(\u001b[39m'\u001b[39;49m\u001b[39mDateTime\u001b[39;49m\u001b[39m'\u001b[39;49m, ascending\u001b[39m=\u001b[39;49m\u001b[39mTrue\u001b[39;49;00m))\n\u001b[0;32m    124\u001b[0m \u001b[39mreturn\u001b[39;00m df\n",
      "File \u001b[1;32md:\\CodeRep\\AVEVAInsightPythonLibrary\\AVEVAInsightLibrary\\jupyter_notebooks\\../src\\AvevaInsightLibrary.py:52\u001b[0m, in \u001b[0;36mAveva_Insight.api_call\u001b[1;34m(self, method, url, data, process_func)\u001b[0m\n\u001b[0;32m     50\u001b[0m \u001b[39mif\u001b[39;00m response\u001b[39m.\u001b[39mstatus_code \u001b[39m!=\u001b[39m \u001b[39m200\u001b[39m:\n\u001b[0;32m     51\u001b[0m     \u001b[39mprint\u001b[39m(\u001b[39mf\u001b[39m\u001b[39m\"\u001b[39m\u001b[39mFailed to retrieve data. Status code: \u001b[39m\u001b[39m{\u001b[39;00mresponse\u001b[39m.\u001b[39mstatus_code\u001b[39m}\u001b[39;00m\u001b[39m\"\u001b[39m)\n\u001b[1;32m---> 52\u001b[0m     \u001b[39mraise\u001b[39;00m \u001b[39mValueError\u001b[39;00m(\u001b[39mf\u001b[39m\u001b[39m\"\u001b[39m\u001b[39mError from WEBAPI: \u001b[39m\u001b[39m{\u001b[39;00mresponse\u001b[39m.\u001b[39mcontent\u001b[39m}\u001b[39;00m\u001b[39m\"\u001b[39m)\n\u001b[0;32m     54\u001b[0m df \u001b[39m=\u001b[39m pd\u001b[39m.\u001b[39mconcat([df, pd\u001b[39m.\u001b[39mDataFrame(response\u001b[39m.\u001b[39mjson()[\u001b[39m\"\u001b[39m\u001b[39mvalue\u001b[39m\u001b[39m\"\u001b[39m])])\n\u001b[0;32m     55\u001b[0m df \u001b[39m=\u001b[39m process_func(df)\n",
      "\u001b[1;31mValueError\u001b[0m: Error from WEBAPI: b'{\"title\":\"Too many tags in query\",\"status\":413,\"traceId\":\"00-c9ae872bdd680a46af0739996a05b2b0-e57acf7e97e93bb0-00\"}'"
     ]
    }
   ],
   "source": [
    "expression = '((AVERAGE([CH-Vevey.EUR.Switzerland.Vevey.UTI01.BH01.BMB01.EfficiencyTarget], 1 month) - ((TOTAL([CH-Vevey.EUR.Switzerland.Vevey.UTI01.BH01.BMB01.SteamFlow], 1 Month) * AVERAGE([CH-Vevey.EUR.Switzerland.Vevey.UTI01.BH01.BMB01.SteamEnthalpy], 1 Month) * 1000) / ((TOTAL([CH-Vevey.EUR.Switzerland.Vevey.UTI01.BH01.BMB01.GasFuelFlow], 1 Month) * AVERAGE([CH-Vevey.EUR.Switzerland.Vevey.UTI01.BH01.BMB01.GasFuelGrossCalorificValue], 1 Month)) + (TOTAL([CH-Vevey.EUR.Switzerland.Vevey.UTI01.BH01.BMB01.LiquidFuelFlow], 1 Month) * AVERAGE([CH-Vevey.EUR.Switzerland.Vevey.UTI01.BH01.BMB01.LiquidFuelGrossCalorificValue], 1 Month)) + (TOTAL([CH-Vevey.EUR.Switzerland.Vevey.UTI01.BH01.BMB01.BiomassFuelFlow], 1 Month) * AVERAGE([CH-Vevey.EUR.Switzerland.Vevey.UTI01.BH01.BMB01.BiomassGrossCalorificValue], 1 Month)) + (TOTAL([CH-Vevey.EUR.Switzerland.Vevey.UTI01.BH01.BMB01.FeedWaterFlow], 1 Month) * AVERAGE([CH-Vevey.EUR.Switzerland.Vevey.UTI01.BH01.BMB01.FeedWaterEnthalpy], 1 Month))))) * AVERAGE([CH-Vevey.EUR.Switzerland.Vevey.UTI01.BH01.BMB01.CostOfFuel], 1 month) * TOTAL([CH-Vevey.EUR.Switzerland.Vevey.UTI01.BH01.BMB01.SteamFlow], 1 month)) AS [CH-Vevey.EUR.Switzerland.Vevey.UTI01.BH01.BMB01.Savings&Losses]'\n",
    "startTime = datetime(2023, 6, 1, 0, 0)\n",
    "endTime = datetime(2023, 7, 5, 0, 0)\n",
    "\n",
    "exDF = aveva.get_Expression_Data(expression, startTime, endTime, RetrievalMode=\"DELTA\")"
   ]
  },
  {
   "cell_type": "code",
   "execution_count": null,
   "metadata": {},
   "outputs": [],
   "source": [
    "exDF.head(10)"
   ]
  },
  {
   "cell_type": "code",
   "execution_count": null,
   "metadata": {},
   "outputs": [],
   "source": [
    "tags = aveva.get_Tag_List()\n",
    "\n",
    "tags.head(10)"
   ]
  },
  {
   "cell_type": "code",
   "execution_count": null,
   "metadata": {},
   "outputs": [],
   "source": []
  },
  {
   "cell_type": "code",
   "execution_count": null,
   "metadata": {},
   "outputs": [],
   "source": []
  },
  {
   "cell_type": "code",
   "execution_count": null,
   "metadata": {},
   "outputs": [],
   "source": []
  }
 ],
 "metadata": {
  "kernelspec": {
   "display_name": "Python 3 (ipykernel)",
   "language": "python",
   "name": "python3"
  },
  "language_info": {
   "codemirror_mode": {
    "name": "ipython",
    "version": 3
   },
   "file_extension": ".py",
   "mimetype": "text/x-python",
   "name": "python",
   "nbconvert_exporter": "python",
   "pygments_lexer": "ipython3",
   "version": "3.8.15"
  },
  "orig_nbformat": 4
 },
 "nbformat": 4,
 "nbformat_minor": 2
}
