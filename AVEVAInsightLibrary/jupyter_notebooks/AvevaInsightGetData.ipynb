{
 "cells": [
  {
   "cell_type": "code",
   "execution_count": 1,
   "metadata": {},
   "outputs": [],
   "source": [
    "from datetime import datetime\n",
    "import sys\n",
    "import os\n",
    "import time\n",
    "sys.path.append(\"../src\")\n",
    "from AvevaInsightLibrary import Aveva_Insight\n",
    "import os\n",
    "from dotenv import load_dotenv\n",
    "load_dotenv() \n",
    "%matplotlib inline"
   ]
  },
  {
   "cell_type": "code",
   "execution_count": 2,
   "metadata": {},
   "outputs": [],
   "source": [
    "user_token = os.getenv('USER_TOKEN')\n",
    "datasource_token = os.getenv('DATASOURCE_TOKEN')\n",
    "aveva = Aveva_Insight(user_token=user_token, datasource_token=datasource_token)\n"
   ]
  },
  {
   "cell_type": "markdown",
   "metadata": {},
   "source": [
    "# Insert Data"
   ]
  },
  {
   "cell_type": "code",
   "execution_count": 6,
   "metadata": {},
   "outputs": [
    {
     "name": "stdout",
     "output_type": "stream",
     "text": [
      "{'JobId': '2517086160094345883'}\n"
     ]
    },
    {
     "name": "stdout",
     "output_type": "stream",
     "text": [
      "{'JobId': '2517086160047459557'}\n"
     ]
    }
   ],
   "source": [
    "\n",
    "for i in range(1, 100):\n",
    "    df = aveva.upload_Tag_Data(tagname= \"TempC2\", value = i)\n",
    "    print(df)\n",
    "    time.sleep(4)\n",
    "\n"
   ]
  },
  {
   "cell_type": "markdown",
   "metadata": {},
   "source": [
    "# Get Tag Data"
   ]
  },
  {
   "cell_type": "code",
   "execution_count": 3,
   "metadata": {},
   "outputs": [
    {
     "name": "stdout",
     "output_type": "stream",
     "text": [
      "next: 1\n",
      "next: 2\n",
      "next: 3\n"
     ]
    },
    {
     "name": "stdout",
     "output_type": "stream",
     "text": [
      "next: 4\n"
     ]
    }
   ],
   "source": [
    "tagnames = ['CH-Vevey.EUR.Switzerland.Vevey.UTI01.CAP01.ElectricityConsumption']\n",
    "startTime = datetime(2023, 8, 1, 0, 0)\n",
    "endTime = datetime(2023, 8, 3, 0, 0)\n",
    "\n",
    "\n",
    "for tag in tagnames:\n",
    "    # Fetch tag data\n",
    "    df = aveva.get_Insight_Data(tag, startTime, endTime, RetrievalMode=\"FULL\")\n",
    "\n",
    "    aveva.save_to_file(df, tag, filetype='csv')\n"
   ]
  },
  {
   "cell_type": "code",
   "execution_count": 5,
   "metadata": {},
   "outputs": [
    {
     "data": {
      "text/html": [
       "<div>\n",
       "<style scoped>\n",
       "    .dataframe tbody tr th:only-of-type {\n",
       "        vertical-align: middle;\n",
       "    }\n",
       "\n",
       "    .dataframe tbody tr th {\n",
       "        vertical-align: top;\n",
       "    }\n",
       "\n",
       "    .dataframe thead th {\n",
       "        text-align: right;\n",
       "    }\n",
       "</style>\n",
       "<table border=\"1\" class=\"dataframe\">\n",
       "  <thead>\n",
       "    <tr style=\"text-align: right;\">\n",
       "      <th></th>\n",
       "      <th>FQN</th>\n",
       "      <th>DateTime</th>\n",
       "      <th>OpcQuality</th>\n",
       "      <th>Value</th>\n",
       "      <th>Text</th>\n",
       "      <th>Unit</th>\n",
       "    </tr>\n",
       "  </thead>\n",
       "  <tbody>\n",
       "    <tr>\n",
       "      <th>1</th>\n",
       "      <td>CH-Vevey.EUR.Switzerland.Vevey.UTI01.CAP01.Ele...</td>\n",
       "      <td>2023-08-01T00:00:00.001Z</td>\n",
       "      <td>192</td>\n",
       "      <td>10.5</td>\n",
       "      <td>10.5</td>\n",
       "      <td>kW</td>\n",
       "    </tr>\n",
       "    <tr>\n",
       "      <th>2</th>\n",
       "      <td>CH-Vevey.EUR.Switzerland.Vevey.UTI01.CAP01.Ele...</td>\n",
       "      <td>2023-08-01T00:00:00.927Z</td>\n",
       "      <td>192</td>\n",
       "      <td>10.4</td>\n",
       "      <td>10.399999618530273</td>\n",
       "      <td>kW</td>\n",
       "    </tr>\n",
       "    <tr>\n",
       "      <th>0</th>\n",
       "      <td>CH-Vevey.EUR.Switzerland.Vevey.UTI01.CAP01.Ele...</td>\n",
       "      <td>2023-08-01T00:00:00Z</td>\n",
       "      <td>192</td>\n",
       "      <td>11.6</td>\n",
       "      <td>11.600000381469727</td>\n",
       "      <td>kW</td>\n",
       "    </tr>\n",
       "    <tr>\n",
       "      <th>3</th>\n",
       "      <td>CH-Vevey.EUR.Switzerland.Vevey.UTI01.CAP01.Ele...</td>\n",
       "      <td>2023-08-01T00:00:01.927Z</td>\n",
       "      <td>192</td>\n",
       "      <td>11.1</td>\n",
       "      <td>11.100000381469727</td>\n",
       "      <td>kW</td>\n",
       "    </tr>\n",
       "    <tr>\n",
       "      <th>4</th>\n",
       "      <td>CH-Vevey.EUR.Switzerland.Vevey.UTI01.CAP01.Ele...</td>\n",
       "      <td>2023-08-01T00:00:02.927Z</td>\n",
       "      <td>192</td>\n",
       "      <td>11.8</td>\n",
       "      <td>11.800000190734863</td>\n",
       "      <td>kW</td>\n",
       "    </tr>\n",
       "  </tbody>\n",
       "</table>\n",
       "</div>"
      ],
      "text/plain": [
       "                                                 FQN  \\\n",
       "1  CH-Vevey.EUR.Switzerland.Vevey.UTI01.CAP01.Ele...   \n",
       "2  CH-Vevey.EUR.Switzerland.Vevey.UTI01.CAP01.Ele...   \n",
       "0  CH-Vevey.EUR.Switzerland.Vevey.UTI01.CAP01.Ele...   \n",
       "3  CH-Vevey.EUR.Switzerland.Vevey.UTI01.CAP01.Ele...   \n",
       "4  CH-Vevey.EUR.Switzerland.Vevey.UTI01.CAP01.Ele...   \n",
       "\n",
       "                   DateTime  OpcQuality  Value                Text Unit  \n",
       "1  2023-08-01T00:00:00.001Z         192   10.5                10.5   kW  \n",
       "2  2023-08-01T00:00:00.927Z         192   10.4  10.399999618530273   kW  \n",
       "0      2023-08-01T00:00:00Z         192   11.6  11.600000381469727   kW  \n",
       "3  2023-08-01T00:00:01.927Z         192   11.1  11.100000381469727   kW  \n",
       "4  2023-08-01T00:00:02.927Z         192   11.8  11.800000190734863   kW  "
      ]
     },
     "execution_count": 5,
     "metadata": {},
     "output_type": "execute_result"
    }
   ],
   "source": [
    "df.head()"
   ]
  },
  {
   "attachments": {},
   "cell_type": "markdown",
   "metadata": {},
   "source": [
    "# Expressions:"
   ]
  },
  {
   "cell_type": "code",
   "execution_count": null,
   "metadata": {},
   "outputs": [],
   "source": [
    "expression = '((AVERAGE([CH-Vevey.EUR.Switzerland.Vevey.UTI01.BH01.BMB01.EfficiencyTarget], 1 month) - ((TOTAL([CH-Vevey.EUR.Switzerland.Vevey.UTI01.BH01.BMB01.SteamFlow], 1 Month) * AVERAGE([CH-Vevey.EUR.Switzerland.Vevey.UTI01.BH01.BMB01.SteamEnthalpy], 1 Month) * 1000) / ((TOTAL([CH-Vevey.EUR.Switzerland.Vevey.UTI01.BH01.BMB01.GasFuelFlow], 1 Month) * AVERAGE([CH-Vevey.EUR.Switzerland.Vevey.UTI01.BH01.BMB01.GasFuelGrossCalorificValue], 1 Month)) + (TOTAL([CH-Vevey.EUR.Switzerland.Vevey.UTI01.BH01.BMB01.LiquidFuelFlow], 1 Month) * AVERAGE([CH-Vevey.EUR.Switzerland.Vevey.UTI01.BH01.BMB01.LiquidFuelGrossCalorificValue], 1 Month)) + (TOTAL([CH-Vevey.EUR.Switzerland.Vevey.UTI01.BH01.BMB01.BiomassFuelFlow], 1 Month) * AVERAGE([CH-Vevey.EUR.Switzerland.Vevey.UTI01.BH01.BMB01.BiomassGrossCalorificValue], 1 Month)) + (TOTAL([CH-Vevey.EUR.Switzerland.Vevey.UTI01.BH01.BMB01.FeedWaterFlow], 1 Month) * AVERAGE([CH-Vevey.EUR.Switzerland.Vevey.UTI01.BH01.BMB01.FeedWaterEnthalpy], 1 Month))))) * AVERAGE([CH-Vevey.EUR.Switzerland.Vevey.UTI01.BH01.BMB01.CostOfFuel], 1 month) * TOTAL([CH-Vevey.EUR.Switzerland.Vevey.UTI01.BH01.BMB01.SteamFlow], 1 month)) AS [CH-Vevey.EUR.Switzerland.Vevey.UTI01.BH01.BMB01.Savings&Losses]'\n",
    "startTime = datetime(2023, 6, 1, 0, 0)\n",
    "endTime = datetime(2023, 7, 5, 0, 0)\n",
    "\n",
    "exDF = aveva.get_Expression_Data(expression, startTime, endTime, RetrievalMode=\"DELTA\")"
   ]
  },
  {
   "cell_type": "code",
   "execution_count": null,
   "metadata": {},
   "outputs": [],
   "source": [
    "exDF.head(10)"
   ]
  },
  {
   "cell_type": "code",
   "execution_count": 6,
   "metadata": {},
   "outputs": [
    {
     "data": {
      "text/html": [
       "<div>\n",
       "<style scoped>\n",
       "    .dataframe tbody tr th:only-of-type {\n",
       "        vertical-align: middle;\n",
       "    }\n",
       "\n",
       "    .dataframe tbody tr th {\n",
       "        vertical-align: top;\n",
       "    }\n",
       "\n",
       "    .dataframe thead th {\n",
       "        text-align: right;\n",
       "    }\n",
       "</style>\n",
       "<table border=\"1\" class=\"dataframe\">\n",
       "  <thead>\n",
       "    <tr style=\"text-align: right;\">\n",
       "      <th></th>\n",
       "      <th>FQN</th>\n",
       "      <th>Source</th>\n",
       "      <th>Description</th>\n",
       "      <th>EngUnit</th>\n",
       "      <th>EngUnitMax</th>\n",
       "      <th>EngUnitMin</th>\n",
       "      <th>InterpolationType</th>\n",
       "      <th>MessageOff</th>\n",
       "      <th>MessageOn</th>\n",
       "      <th>TagName</th>\n",
       "      <th>TagType</th>\n",
       "      <th>SourceTag</th>\n",
       "      <th>Namespace</th>\n",
       "      <th>TagDataType</th>\n",
       "      <th>Dimension</th>\n",
       "      <th>Location</th>\n",
       "      <th>Raw@odata.navigationLink</th>\n",
       "      <th>Minutely@odata.navigationLink</th>\n",
       "      <th>Hourly@odata.navigationLink</th>\n",
       "      <th>Daily@odata.navigationLink</th>\n",
       "    </tr>\n",
       "  </thead>\n",
       "  <tbody>\n",
       "    <tr>\n",
       "      <th>0</th>\n",
       "      <td>CH-Vevey.EUR.Switzerland.Vevey.UTI01.CAP01.Ele...</td>\n",
       "      <td>CH-Vevey</td>\n",
       "      <td>REALTIME VALUE: Instantaneous value of the ele...</td>\n",
       "      <td>kW</td>\n",
       "      <td>10.0</td>\n",
       "      <td>0.0</td>\n",
       "      <td>StairStep</td>\n",
       "      <td>None</td>\n",
       "      <td>None</td>\n",
       "      <td>EUR.Switzerland.Vevey.UTI01.CAP01.ElectricityC...</td>\n",
       "      <td>Analog</td>\n",
       "      <td>CAP01_Vevey.ElectricityConsumption</td>\n",
       "      <td>CH-Vevey</td>\n",
       "      <td>Float</td>\n",
       "      <td>Power</td>\n",
       "      <td>/EUR/Switzerland/Vevey/UTI01/CAP01</td>\n",
       "      <td>https://online.wonderware.eu/apis/Historian/v2...</td>\n",
       "      <td>https://online.wonderware.eu/apis/Historian/v2...</td>\n",
       "      <td>https://online.wonderware.eu/apis/Historian/v2...</td>\n",
       "      <td>https://online.wonderware.eu/apis/Historian/v2...</td>\n",
       "    </tr>\n",
       "  </tbody>\n",
       "</table>\n",
       "</div>"
      ],
      "text/plain": [
       "                                                 FQN    Source  \\\n",
       "0  CH-Vevey.EUR.Switzerland.Vevey.UTI01.CAP01.Ele...  CH-Vevey   \n",
       "\n",
       "                                         Description EngUnit  EngUnitMax  \\\n",
       "0  REALTIME VALUE: Instantaneous value of the ele...      kW        10.0   \n",
       "\n",
       "   EngUnitMin InterpolationType MessageOff MessageOn  \\\n",
       "0         0.0         StairStep       None      None   \n",
       "\n",
       "                                             TagName TagType  \\\n",
       "0  EUR.Switzerland.Vevey.UTI01.CAP01.ElectricityC...  Analog   \n",
       "\n",
       "                            SourceTag Namespace TagDataType Dimension  \\\n",
       "0  CAP01_Vevey.ElectricityConsumption  CH-Vevey       Float     Power   \n",
       "\n",
       "                             Location  \\\n",
       "0  /EUR/Switzerland/Vevey/UTI01/CAP01   \n",
       "\n",
       "                            Raw@odata.navigationLink  \\\n",
       "0  https://online.wonderware.eu/apis/Historian/v2...   \n",
       "\n",
       "                       Minutely@odata.navigationLink  \\\n",
       "0  https://online.wonderware.eu/apis/Historian/v2...   \n",
       "\n",
       "                         Hourly@odata.navigationLink  \\\n",
       "0  https://online.wonderware.eu/apis/Historian/v2...   \n",
       "\n",
       "                          Daily@odata.navigationLink  \n",
       "0  https://online.wonderware.eu/apis/Historian/v2...  "
      ]
     },
     "execution_count": 6,
     "metadata": {},
     "output_type": "execute_result"
    }
   ],
   "source": [
    "tags = aveva.get_Tag_List('CH-Vevey.EUR.Switzerland.Vevey.UTI01.CAP01.ElectricityConsumption')\n",
    "\n",
    "tags.head(10)"
   ]
  },
  {
   "cell_type": "code",
   "execution_count": 11,
   "metadata": {},
   "outputs": [],
   "source": [
    "tags.to_csv('tagmetadatra.csv')"
   ]
  },
  {
   "cell_type": "code",
   "execution_count": null,
   "metadata": {},
   "outputs": [],
   "source": []
  },
  {
   "cell_type": "code",
   "execution_count": null,
   "metadata": {},
   "outputs": [],
   "source": []
  }
 ],
 "metadata": {
  "kernelspec": {
   "display_name": "Python 3 (ipykernel)",
   "language": "python",
   "name": "python3"
  },
  "language_info": {
   "codemirror_mode": {
    "name": "ipython",
    "version": 3
   },
   "file_extension": ".py",
   "mimetype": "text/x-python",
   "name": "python",
   "nbconvert_exporter": "python",
   "pygments_lexer": "ipython3",
   "version": "3.8.15"
  },
  "orig_nbformat": 4
 },
 "nbformat": 4,
 "nbformat_minor": 2
}
