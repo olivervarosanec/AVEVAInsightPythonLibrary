{
 "cells": [
  {
   "cell_type": "code",
   "execution_count": 2,
   "metadata": {},
   "outputs": [],
   "source": [
    "import pickle\n",
    "import json\n",
    "from datetime import datetime\n",
    "from dotenv import load_dotenv\n",
    "import sys\n",
    "sys.path.append(\"../src\")\n",
    "from AvevaInsightLibrary import Aveva_Insight\n",
    "load_dotenv() \n",
    "%matplotlib inline"
   ]
  },
  {
   "cell_type": "code",
   "execution_count": 3,
   "metadata": {},
   "outputs": [],
   "source": [
    "auth_token = os.getenv('BEARER_TOKEN')\n",
    "aveva = Aveva_Insight(auth_token)"
   ]
  },
  {
   "cell_type": "code",
   "execution_count": null,
   "metadata": {},
   "outputs": [],
   "source": [
    "tagnames = ['TagName1', 'TagName2']\n",
    "startTime = datetime(2023, 6, 1, 0, 0)\n",
    "endTime = datetime(2023, 7, 5, 0, 0)\n",
    "\n",
    "\n",
    "for tag in tagnames:\n",
    "    # Fetch tag data\n",
    "    df = aveva.get_Insight_Data(tag, startTime, endTime, RetrievalMode=\"FULL\")\n",
    "\n",
    "    csv_data = df.to_csv(index=False) \n",
    "\n",
    "    # Save to json\n",
    "    with open(f'{tag}.csv', 'w', newline='') as f:\n",
    "        f.write(csv_data)\n"
   ]
  },
  {
   "cell_type": "code",
   "execution_count": null,
   "metadata": {},
   "outputs": [],
   "source": [
    "df['Value'].plot()"
   ]
  },
  {
   "attachments": {},
   "cell_type": "markdown",
   "metadata": {},
   "source": [
    "# Expressions:"
   ]
  },
  {
   "cell_type": "code",
   "execution_count": 38,
   "metadata": {},
   "outputs": [
    {
     "name": "stdout",
     "output_type": "stream",
     "text": [
      "end: 1\n"
     ]
    }
   ],
   "source": [
    "expression = 'TagName1 + TagName2'\n",
    "startTime = datetime(2023, 6, 1, 0, 0)\n",
    "endTime = datetime(2023, 7, 5, 0, 0)\n",
    "\n",
    "exDF = aveva.get_Expression_Data(expression, startTime, endTime, RetrievalMode=\"DELTA\")"
   ]
  },
  {
   "cell_type": "code",
   "execution_count": null,
   "metadata": {},
   "outputs": [],
   "source": [
    "exDF.head(10)"
   ]
  },
  {
   "cell_type": "code",
   "execution_count": null,
   "metadata": {},
   "outputs": [],
   "source": [
    "tags = aveva.get_Tag_List()\n",
    "\n",
    "tags.head(10)"
   ]
  },
  {
   "cell_type": "code",
   "execution_count": null,
   "metadata": {},
   "outputs": [],
   "source": []
  },
  {
   "cell_type": "code",
   "execution_count": null,
   "metadata": {},
   "outputs": [],
   "source": []
  },
  {
   "cell_type": "code",
   "execution_count": null,
   "metadata": {},
   "outputs": [],
   "source": []
  }
 ],
 "metadata": {
  "kernelspec": {
   "display_name": "Python 3 (ipykernel)",
   "language": "python",
   "name": "python3"
  },
  "language_info": {
   "codemirror_mode": {
    "name": "ipython",
    "version": 3
   },
   "file_extension": ".py",
   "mimetype": "text/x-python",
   "name": "python",
   "nbconvert_exporter": "python",
   "pygments_lexer": "ipython3",
   "version": "3.8.15"
  },
  "orig_nbformat": 4
 },
 "nbformat": 4,
 "nbformat_minor": 2
}
