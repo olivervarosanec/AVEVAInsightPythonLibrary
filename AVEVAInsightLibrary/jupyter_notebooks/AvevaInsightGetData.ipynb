{
 "cells": [
  {
   "cell_type": "code",
   "execution_count": 4,
   "metadata": {},
   "outputs": [],
   "source": [
    "from datetime import datetime\n",
    "import sys\n",
    "import os\n",
    "sys.path.append(\"../src\")\n",
    "from AvevaInsightLibrary import Aveva_Insight\n",
    "%matplotlib inline"
   ]
  },
  {
   "cell_type": "code",
   "execution_count": 5,
   "metadata": {},
   "outputs": [],
   "source": [
    "auth_token = os.getenv('BEARER_TOKEN')\n",
    "aveva = Aveva_Insight(auth_token)"
   ]
  },
  {
   "cell_type": "code",
   "execution_count": null,
   "metadata": {},
   "outputs": [],
   "source": [
    "tagnames = ['TagName1', 'TagName2']\n",
    "startTime = datetime(2023, 6, 1, 0, 0)\n",
    "endTime = datetime(2023, 7, 5, 0, 0)\n",
    "\n",
    "\n",
    "for tag in tagnames:\n",
    "    # Fetch tag data\n",
    "    df = aveva.get_Insight_Data(tag, startTime, endTime, RetrievalMode=\"FULL\")\n",
    "\n",
    "    aveva.save_to_file(df, tag, filetype='csv')\n"
   ]
  },
  {
   "cell_type": "code",
   "execution_count": null,
   "metadata": {},
   "outputs": [],
   "source": [
    "df.head()"
   ]
  },
  {
   "attachments": {},
   "cell_type": "markdown",
   "metadata": {},
   "source": [
    "# Expressions:"
   ]
  },
  {
   "cell_type": "code",
   "execution_count": null,
   "metadata": {},
   "outputs": [],
   "source": [
    "expression = '((AVERAGE([CH-Vevey.EUR.Switzerland.Vevey.UTI01.BH01.BMB01.EfficiencyTarget], 1 month) - ((TOTAL([CH-Vevey.EUR.Switzerland.Vevey.UTI01.BH01.BMB01.SteamFlow], 1 Month) * AVERAGE([CH-Vevey.EUR.Switzerland.Vevey.UTI01.BH01.BMB01.SteamEnthalpy], 1 Month) * 1000) / ((TOTAL([CH-Vevey.EUR.Switzerland.Vevey.UTI01.BH01.BMB01.GasFuelFlow], 1 Month) * AVERAGE([CH-Vevey.EUR.Switzerland.Vevey.UTI01.BH01.BMB01.GasFuelGrossCalorificValue], 1 Month)) + (TOTAL([CH-Vevey.EUR.Switzerland.Vevey.UTI01.BH01.BMB01.LiquidFuelFlow], 1 Month) * AVERAGE([CH-Vevey.EUR.Switzerland.Vevey.UTI01.BH01.BMB01.LiquidFuelGrossCalorificValue], 1 Month)) + (TOTAL([CH-Vevey.EUR.Switzerland.Vevey.UTI01.BH01.BMB01.BiomassFuelFlow], 1 Month) * AVERAGE([CH-Vevey.EUR.Switzerland.Vevey.UTI01.BH01.BMB01.BiomassGrossCalorificValue], 1 Month)) + (TOTAL([CH-Vevey.EUR.Switzerland.Vevey.UTI01.BH01.BMB01.FeedWaterFlow], 1 Month) * AVERAGE([CH-Vevey.EUR.Switzerland.Vevey.UTI01.BH01.BMB01.FeedWaterEnthalpy], 1 Month))))) * AVERAGE([CH-Vevey.EUR.Switzerland.Vevey.UTI01.BH01.BMB01.CostOfFuel], 1 month) * TOTAL([CH-Vevey.EUR.Switzerland.Vevey.UTI01.BH01.BMB01.SteamFlow], 1 month)) AS [CH-Vevey.EUR.Switzerland.Vevey.UTI01.BH01.BMB01.Savings&Losses]'\n",
    "startTime = datetime(2023, 6, 1, 0, 0)\n",
    "endTime = datetime(2023, 7, 5, 0, 0)\n",
    "\n",
    "exDF = aveva.get_Expression_Data(expression, startTime, endTime, RetrievalMode=\"DELTA\")"
   ]
  },
  {
   "cell_type": "code",
   "execution_count": null,
   "metadata": {},
   "outputs": [],
   "source": [
    "exDF.head(10)"
   ]
  },
  {
   "cell_type": "code",
   "execution_count": null,
   "metadata": {},
   "outputs": [],
   "source": [
    "tags = aveva.get_Tag_List()\n",
    "\n",
    "tags.head(10)"
   ]
  },
  {
   "cell_type": "code",
   "execution_count": null,
   "metadata": {},
   "outputs": [],
   "source": []
  },
  {
   "cell_type": "code",
   "execution_count": null,
   "metadata": {},
   "outputs": [],
   "source": []
  },
  {
   "cell_type": "code",
   "execution_count": null,
   "metadata": {},
   "outputs": [],
   "source": []
  }
 ],
 "metadata": {
  "kernelspec": {
   "display_name": "Python 3 (ipykernel)",
   "language": "python",
   "name": "python3"
  },
  "language_info": {
   "codemirror_mode": {
    "name": "ipython",
    "version": 3
   },
   "file_extension": ".py",
   "mimetype": "text/x-python",
   "name": "python",
   "nbconvert_exporter": "python",
   "pygments_lexer": "ipython3",
   "version": "3.8.15"
  },
  "orig_nbformat": 4
 },
 "nbformat": 4,
 "nbformat_minor": 2
}
